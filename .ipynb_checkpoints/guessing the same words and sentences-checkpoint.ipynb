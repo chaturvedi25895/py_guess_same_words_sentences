{
 "cells": [
  {
   "cell_type": "code",
   "execution_count": 46,
   "metadata": {},
   "outputs": [
    {
     "name": "stdout",
     "output_type": "stream",
     "text": [
      "Please provide your Player1 name: chaturvedi\n",
      "Please provide your Player2 name: kokilavani\n",
      "Awesome! Lets jump in to the game\n",
      "Please provide a word/sentence to guess: game\n",
      "propose a challenge time(in mins): 1\n",
      "Hey kokilavani! Your 1 minutes time starts now.. \n",
      "Tic tic 1 \n",
      "Tic tic 2 \n",
      "... \n",
      "...\n",
      "Your time starts now\n",
      "lets guess the letter: f\n",
      "Oh..We have to guess again!!\n",
      "lets guess the letter: g\n",
      "Letter 1 is matching\n",
      "lets guess the letter: a\n",
      "Letter 2 is matching\n",
      "lets guess the letter: m\n",
      "Letter 3 is matching\n",
      "lets guess the letter: e\n",
      "Letter 4 is matching\n",
      "You made it in 0.35 mins\n",
      "kokilavani won the game\n"
     ]
    }
   ],
   "source": [
    "import time as t\n",
    "p1_name = input(\"Please provide your Player1 name: \")\n",
    "p2_name = input(\"Please provide your Player2 name: \")\n",
    "print(\"Awesome! Lets jump in to the game\")\n",
    "p1_string = input(\"Please provide a word/sentence to guess: \")\n",
    "p1_challenge_time = int(input(\"propose a challenge time(in mins): \"))\n",
    "\n",
    "hint1 = \"The word starts with {letter}\".format(letter =p1_string[0])\n",
    "\n",
    "print(\"Hey {player2}! Your {challenge_time} minutes time starts now.. \\nTic tic 1 \\nTic tic 2 \\n... \\n...\\nYour time starts now\".format(player2 = p2_name,challenge_time = p1_challenge_time) )\n",
    "start_time = time.perf_counter()\n",
    "\n",
    "p2_guessing_input_string_updated = ''\n",
    "i=0\n",
    "\n",
    "while True:\n",
    "    if(p2_guessing_input_string_updated == p1_string):\n",
    "        end_time = time.perf_counter()\n",
    "        total_time_taken = (end_time-start_time)/60\n",
    "        print(\"You made it in {time_taken:0.2f} mins\".format(time_taken = total_time_taken))\n",
    "        break\n",
    "    else:\n",
    "        p2_guessing_input_string = input(\"lets guess the letter: \")\n",
    "        if (p1_string[len(p2_guessing_input_string_updated)] == p2_guessing_input_string[0]):\n",
    "            print(\"Letter {} is matching\".format(len(p2_guessing_input_string_updated)+1))\n",
    "            p2_guessing_input_string_updated =p2_guessing_input_string_updated + p2_guessing_input_string    \n",
    "        else:\n",
    "            print(\"Oh..We have to guess again!!\")\n",
    "\n",
    "if(total_time_taken < p1_challenge_time):\n",
    "    print(\"{player} won the game\".format(player = p2_name))\n",
    "else:\n",
    "    print(\"{player} won the game\".format(player = p1_name))\n",
    "\n"
   ]
  },
  {
   "cell_type": "code",
   "execution_count": null,
   "metadata": {},
   "outputs": [],
   "source": []
  }
 ],
 "metadata": {
  "kernelspec": {
   "display_name": "Python 3",
   "language": "python",
   "name": "python3"
  },
  "language_info": {
   "codemirror_mode": {
    "name": "ipython",
    "version": 3
   },
   "file_extension": ".py",
   "mimetype": "text/x-python",
   "name": "python",
   "nbconvert_exporter": "python",
   "pygments_lexer": "ipython3",
   "version": "3.7.0"
  }
 },
 "nbformat": 4,
 "nbformat_minor": 2
}
